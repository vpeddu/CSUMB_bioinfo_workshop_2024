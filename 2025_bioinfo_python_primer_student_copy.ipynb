{
 "cells": [
  {
   "cell_type": "markdown",
   "metadata": {
    "id": "OZYahLbCkCKb",
    "slideshow": {
     "slide_type": "slide"
    }
   },
   "source": [
    "# Python-for-Bioinformatics Primer Code Notebook\n",
    "Welcome to Python, Co-Lab notebooks, and maybe even programming in-general!\n",
    "\n",
    "Python is a popular language becuase it can be adapted to a variety of problems and subject matter, its very pleasant to read (at least compared to some other languages), and it can be executed interactively.\n",
    "\n",
    "In particular, Python has accessible and quite functional syntax that can help us work with the `Sequences`, `Identities`, and `Positions` we've been talking about.\n",
    "\n",
    "This is a `code notebook` -- a platform that lets you mix text (like this) and code (see below), execute your code, inspect output, and much more:"
   ]
  },
  {
   "cell_type": "code",
   "execution_count": null,
   "metadata": {
    "id": "8iMsTm8wj9XJ",
    "slideshow": {
     "slide_type": "slide"
    }
   },
   "outputs": [],
   "source": [
    "# hello world\n",
    "print('Hello CSUMB')"
   ]
  },
  {
   "cell_type": "markdown",
   "metadata": {
    "id": "B34PTddeLDy1",
    "slideshow": {
     "slide_type": "slide"
    }
   },
   "source": [
    "Python is an `interpreted` langauge, meaning (in practice) it's code is evaluated line-by-line: \n",
    "\n",
    "notice how we print \"Hello CSUMB\" first and \"my name is Roman\" next?\n",
    "\n",
    "Also notice how only the lines that *don't* start with `#` are executed and printed?\n",
    "\n",
    "`#` let's use place comments in the code -- helpful explainers, reminders, etc"
   ]
  },
  {
   "cell_type": "markdown",
   "metadata": {
    "id": "FlCbnTEeXgsX",
    "slideshow": {
     "slide_type": "slide"
    }
   },
   "source": [
    "#### challenge 1\n",
    "Your first(?) program -- using the **function** `print`"
   ]
  },
  {
   "cell_type": "code",
   "execution_count": null,
   "metadata": {
    "id": "2SeltjtgXevD",
    "slideshow": {
     "slide_type": "slide"
    }
   },
   "outputs": [],
   "source": [
    "# TODO\n",
    "# print your name\n",
    "# and the name of your group's gene \n",
    "# on separate lines"
   ]
  },
  {
   "cell_type": "markdown",
   "metadata": {
    "id": "8CG3o56ZMPD3",
    "slideshow": {
     "slide_type": "slide"
    }
   },
   "source": [
    "## Objects & Types\n",
    "\n",
    "Everything in Python is an object, this has many implications, the first of which is we can *create* objects and assign them with *values*\n",
    "\n",
    "A burden we carry with creating objects is naming them -- clear, helpful names make for clear, helpful code that is easy to fix (most of programming is not writing new code, it is fixing existing code)"
   ]
  },
  {
   "cell_type": "code",
   "execution_count": null,
   "metadata": {
    "id": "dtotd7xLbAGe",
    "slideshow": {
     "slide_type": "slide"
    }
   },
   "outputs": [],
   "source": [
    "# assigned the object gene to the value MFG\n",
    "gene = 'MFG' \n",
    "gene_length = 12 "
   ]
  },
  {
   "cell_type": "markdown",
   "metadata": {
    "id": "7mC-6uCOcNUz",
    "slideshow": {
     "slide_type": "slide"
    }
   },
   "source": [
    "In the code block, you can already see that these values are represented differently -- and belong to different types of sequence-building units"
   ]
  },
  {
   "cell_type": "markdown",
   "metadata": {
    "id": "g18_dFkycy6n",
    "slideshow": {
     "slide_type": "slide"
    }
   },
   "source": [
    "#### challenge 2\n",
    "Using the function `type`, determine the types of both gene and gene_length -- do these make sense?"
   ]
  },
  {
   "cell_type": "code",
   "execution_count": null,
   "metadata": {
    "id": "npTUhMQIcwBT",
    "slideshow": {
     "slide_type": "slide"
    }
   },
   "outputs": [],
   "source": [
    "# TODO \n"
   ]
  },
  {
   "cell_type": "markdown",
   "metadata": {
    "id": "hMgjfj_VejMs",
    "slideshow": {
     "slide_type": "slide"
    }
   },
   "source": [
    "Different objects can be interacted with in different ways based on their type "
   ]
  },
  {
   "cell_type": "markdown",
   "metadata": {
    "id": "MLw33hLvf-Bt",
    "slideshow": {
     "slide_type": "slide"
    }
   },
   "source": [
    "#### challenge 3\n",
    "Find the combined lengths of gene_a and gene_b"
   ]
  },
  {
   "cell_type": "code",
   "execution_count": null,
   "metadata": {
    "id": "4f6UbfeKei8U",
    "slideshow": {
     "slide_type": "slide"
    }
   },
   "outputs": [],
   "source": [
    "gene_a_length = 32\n",
    "gene_b_length = 6\n",
    "\n",
    "# python uses standard expressions for math\n",
    "print('A + B = ', gene_a_length + gene_b_length)\n",
    "print('A/B = ', gene_a_length / gene_b_length)"
   ]
  },
  {
   "cell_type": "markdown",
   "metadata": {},
   "source": [
    "Find the combined lengths of gene A,B and C"
   ]
  },
  {
   "cell_type": "code",
   "execution_count": null,
   "metadata": {},
   "outputs": [],
   "source": [
    "gene_c_length = '87'\n",
    "# TODO"
   ]
  },
  {
   "cell_type": "markdown",
   "metadata": {
    "id": "i2E4eZOOgtiY",
    "slideshow": {
     "slide_type": "slide"
    }
   },
   "source": [
    "What's wrong? Python types are *strict*, we can't add a word (gene_c_length) and a number (gene_b_length), try and fix this with the **function** `int` "
   ]
  },
  {
   "cell_type": "markdown",
   "metadata": {
    "id": "5ca26lpFl5E-",
    "slideshow": {
     "slide_type": "slide"
    }
   },
   "source": [
    "finally, create a new object `total_gene_length` and assign it the total lengths of gene's a,b,c "
   ]
  },
  {
   "cell_type": "code",
   "execution_count": null,
   "metadata": {
    "id": "BW4v6zSbmKkq",
    "slideshow": {
     "slide_type": "slide"
    }
   },
   "outputs": [],
   "source": [
    "# TODO make total_gene_length set it to the combined lenghts\n",
    "\n",
    "# TODO print the total\n"
   ]
  },
  {
   "cell_type": "markdown",
   "metadata": {
    "id": "MoE1Qq2kh184",
    "slideshow": {
     "slide_type": "slide"
    }
   },
   "source": [
    "### Describing a gene in code\n",
    "We're going to be working with `Reference` sequences, `Alignment` sequences, and their properties\n",
    "\n",
    "** those more experienced with programming may recognize the opportunity to construct a `class` here\n",
    "\n",
    "complete the comments here to describe each object's type"
   ]
  },
  {
   "cell_type": "code",
   "execution_count": null,
   "metadata": {
    "id": "uZ3qZr-ikSJw",
    "slideshow": {
     "slide_type": "slide"
    }
   },
   "outputs": [],
   "source": [
    "# we'll use these for the next few cells. If something weird happens run this cell again to \n",
    "# get these values back\n",
    "\n",
    "gene = 'MFG' # type = \n",
    "gene_length = 12 # type =\n",
    "gene_sequence = 'ATGCCGAATTTA' # type = \n",
    "gene_alignment_count = 460 # type = "
   ]
  },
  {
   "cell_type": "markdown",
   "metadata": {
    "id": "7-Ba8CP7pidF",
    "slideshow": {
     "slide_type": "slide"
    }
   },
   "source": [
    "Python `int` and `str` types have useful built in functionality, as we've already seen with the mathematical expressions we can apply to integers"
   ]
  },
  {
   "cell_type": "markdown",
   "metadata": {
    "id": "j0wATFvlwd6z",
    "slideshow": {
     "slide_type": "slide"
    }
   },
   "source": [
    "#### challenge 4\n",
    "4.1 - Calculate the counts-per-nucleotide for the MFG manually"
   ]
  },
  {
   "cell_type": "code",
   "execution_count": null,
   "metadata": {
    "id": "IWJm7FwgphyN",
    "slideshow": {
     "slide_type": "slide"
    }
   },
   "outputs": [],
   "source": [
    "# TODO\n",
    "# count the length of the gene_sequence manually"
   ]
  },
  {
   "cell_type": "markdown",
   "metadata": {
    "id": "CpjDNz6DxD8z",
    "slideshow": {
     "slide_type": "slide"
    }
   },
   "source": [
    "4.2 - Confirm the length of MFG using the **function** `len`\n",
    "\n",
    "strings are made up of individual units -- letters -- which in our case are DNA nucleotides, `len` will tell us how many units are in our string `gene_sequence`"
   ]
  },
  {
   "cell_type": "code",
   "execution_count": null,
   "metadata": {
    "id": "KW4O4msPxpA1",
    "slideshow": {
     "slide_type": "slide"
    }
   },
   "outputs": [],
   "source": [
    "# TODO\n",
    "# determine the length of the gene_sequence using the len function"
   ]
  },
  {
   "attachments": {},
   "cell_type": "markdown",
   "metadata": {
    "id": "ovds13qbx8f7",
    "slideshow": {
     "slide_type": "slide"
    }
   },
   "source": [
    "Python can compare values for us, and return a `boolean`: `True` or `False`\n",
    "\n",
    "The simplest comparison is to ask: \"is x equal to y\" which we peform with\\\n",
    "this is done by using two equal signs == \\\n",
    "additionally we can ask if two statments are NOT equal with !="
   ]
  },
  {
   "cell_type": "code",
   "execution_count": null,
   "metadata": {
    "id": "GALk8-NwyQzm",
    "slideshow": {
     "slide_type": "slide"
    }
   },
   "outputs": [],
   "source": [
    "# TODO \n",
    "# are gene_alignment_count and gene_length equal?\n",
    "# try this with just `=`, what happens?\n",
    "# we can also use != for 'not'\n"
   ]
  },
  {
   "cell_type": "markdown",
   "metadata": {
    "id": "BWOhGewbydGB",
    "slideshow": {
     "slide_type": "slide"
    }
   },
   "source": [
    "finally, have python compare the given gene length with the one you calculate from the provided sequence"
   ]
  },
  {
   "cell_type": "code",
   "execution_count": null,
   "metadata": {
    "id": "GSnMQM7IyCwR",
    "slideshow": {
     "slide_type": "slide"
    }
   },
   "outputs": [],
   "source": [
    "# TODO \n",
    "# compare gene_length and the length of the gene_sequence"
   ]
  },
  {
   "cell_type": "markdown",
   "metadata": {
    "id": "mMMxsFoqwTkf",
    "slideshow": {
     "slide_type": "slide"
    }
   },
   "source": [
    "### Strings\n",
    "\n",
    "Strings have additional properties that are going to be extremely helpful"
   ]
  },
  {
   "cell_type": "markdown",
   "metadata": {
    "id": "9PegoGXmzxoD",
    "slideshow": {
     "slide_type": "slide"
    }
   },
   "source": [
    "### Slices\n",
    "Slicing a `str` lets us extract individual units/positions/nucleotides programmatically"
   ]
  },
  {
   "cell_type": "code",
   "execution_count": null,
   "metadata": {
    "id": "BLo94ak-z5NV",
    "slideshow": {
     "slide_type": "slide"
    }
   },
   "outputs": [],
   "source": [
    "# slicing F from MFG\n",
    "print(gene)\n",
    "gene[1]"
   ]
  },
  {
   "cell_type": "markdown",
   "metadata": {
    "id": "xqAgtoXH0DNr",
    "slideshow": {
     "slide_type": "slide"
    }
   },
   "source": [
    "notice here that `gene[1]` returns the middle letter in MFG == 'F'\n",
    "\n",
    "This is because **Python is 0-based -- it starts counting at 0, not 1**\n",
    "\n",
    "more generally, "
   ]
  },
  {
   "cell_type": "code",
   "execution_count": null,
   "metadata": {
    "id": "WTVtKDdm0P1v",
    "slideshow": {
     "slide_type": "slide"
    }
   },
   "outputs": [],
   "source": [
    "print(gene_sequence)\n",
    "print(gene_sequence[0:3])\n",
    "print('  ',gene_sequence[3:6]) # these just \n",
    "print('     ', gene_sequence[6:9]) # have random spaces\n",
    "print('        ', gene_sequence[9:12]) # to look cool when we print\n",
    "\n"
   ]
  },
  {
   "cell_type": "markdown",
   "metadata": {
    "id": "8J0SEm551pCO",
    "slideshow": {
     "slide_type": "slide"
    }
   },
   "source": [
    "##### challenge 5\n",
    "\n",
    "extract \"CCGAA\" from `gene_sequence`, calculate its length, and the fraction of `gene_length` it represents"
   ]
  },
  {
   "cell_type": "code",
   "execution_count": null,
   "metadata": {
    "id": "5CL3Xv9o3Keu",
    "slideshow": {
     "slide_type": "slide"
    }
   },
   "outputs": [],
   "source": [
    "# TODO"
   ]
  },
  {
   "cell_type": "markdown",
   "metadata": {
    "id": "fDrsmZQs5cjD",
    "slideshow": {
     "slide_type": "slide"
    }
   },
   "source": [
    "#### challenge 6\n",
    "slice positions 0 & 1, 7 & 8 from `gene_sequence` and determine if they are equivalent (using python)"
   ]
  },
  {
   "cell_type": "code",
   "execution_count": null,
   "metadata": {
    "id": "f8jbQeNb6FPj",
    "slideshow": {
     "slide_type": "slide"
    }
   },
   "outputs": [],
   "source": [
    "# TODO\n"
   ]
  },
  {
   "cell_type": "markdown",
   "metadata": {
    "id": "sLk1Pwvr6yg9",
    "slideshow": {
     "slide_type": "slide"
    }
   },
   "source": [
    "We can also query strings for content using `in` and `find`:"
   ]
  },
  {
   "cell_type": "code",
   "execution_count": null,
   "metadata": {
    "id": "ihHF4U7465p6",
    "slideshow": {
     "slide_type": "slide"
    }
   },
   "outputs": [],
   "source": [
    "# we know A is in gene_sequence\n",
    "'A' in gene_sequence"
   ]
  },
  {
   "cell_type": "code",
   "execution_count": null,
   "metadata": {
    "id": "X-ZVwJ4t6_D8",
    "slideshow": {
     "slide_type": "slide"
    }
   },
   "outputs": [],
   "source": [
    "# U shouldn't be, since this is DNA\n",
    "'U' in gene_sequence"
   ]
  },
  {
   "cell_type": "code",
   "execution_count": null,
   "metadata": {
    "id": "NgRYkZAX7XeE",
    "slideshow": {
     "slide_type": "slide"
    }
   },
   "outputs": [],
   "source": [
    "# the 'find' function is a proprety of all strings\n",
    "# thus, we can call it with `object.find('search_string')`\n",
    "# it will return an `int` reflecting the start position\n",
    "# of the first occurence of the search\n",
    "gene_sequence.find('TTA')"
   ]
  },
  {
   "cell_type": "markdown",
   "metadata": {
    "id": "ToEwKTwC72Ao",
    "slideshow": {
     "slide_type": "slide"
    }
   },
   "source": [
    "#### challenge 7 \n",
    "`find` the first occurence of the start codon in `gene_sequence`,\n",
    "use the coordinate returned to slice the three-nucleotide codon sequence from `gene_sequence` "
   ]
  },
  {
   "cell_type": "code",
   "execution_count": null,
   "metadata": {
    "id": "-V2MAy-T8N1X",
    "slideshow": {
     "slide_type": "slide"
    }
   },
   "outputs": [],
   "source": [
    "# TODO\n"
   ]
  },
  {
   "cell_type": "markdown",
   "metadata": {
    "id": "nV_kq3uI83td",
    "slideshow": {
     "slide_type": "slide"
    }
   },
   "source": [
    "#### challenge 8\n",
    "what's the type of the following object?"
   ]
  },
  {
   "cell_type": "code",
   "execution_count": null,
   "metadata": {
    "id": "1BYBDsgP87gp",
    "slideshow": {
     "slide_type": "slide"
    }
   },
   "outputs": [],
   "source": [
    "collection = [gene, gene_length, gene_sequence, gene_alignment_count]"
   ]
  },
  {
   "cell_type": "code",
   "execution_count": null,
   "metadata": {
    "id": "tFXwjaFy9M7v",
    "slideshow": {
     "slide_type": "slide"
    }
   },
   "outputs": [],
   "source": [
    "# TODO\n"
   ]
  },
  {
   "cell_type": "markdown",
   "metadata": {
    "id": "iPXq4n3YMdWt",
    "slideshow": {
     "slide_type": "slide"
    }
   },
   "source": [
    "## List & Dictionary basics\n",
    "\n",
    "Single objects are sometimes related, ordered, connected, or best described in unison.\n",
    "\n",
    "Python has many objects that enable an additional layer of organization and contain many useful functions to help us organize genes, sequences, etc"
   ]
  },
  {
   "cell_type": "markdown",
   "metadata": {
    "id": "H5oFDPjBNIsN",
    "slideshow": {
     "slide_type": "slide"
    }
   },
   "source": [
    "### Lists\n",
    "\n",
    "as defined above, `collection` is a list that stores all the information about 'MFG', but its a little awkard since it has many different types and no clear way to identify which value is which"
   ]
  },
  {
   "cell_type": "code",
   "execution_count": null,
   "metadata": {
    "id": "0R21OYF0ARwp",
    "slideshow": {
     "slide_type": "slide"
    }
   },
   "outputs": [],
   "source": [
    "# lists are always defined with `[ , , ]`\n",
    "collection = [gene, gene_length, gene_sequence, gene_alignment_count]\n",
    "collection\n",
    "# ['MFG', 12, 'ATGCCGAATTTA', 460]"
   ]
  },
  {
   "cell_type": "markdown",
   "metadata": {
    "id": "H-AM86czAVm6",
    "slideshow": {
     "slide_type": "slide"
    }
   },
   "source": [
    "Lists are better for mono-typic collections, so try making a list of the genes your groups are studying"
   ]
  },
  {
   "cell_type": "code",
   "execution_count": null,
   "metadata": {
    "id": "b5J1RbxlCXNv",
    "slideshow": {
     "slide_type": "slide"
    }
   },
   "outputs": [],
   "source": [
    "test_list = [gene] # a list with one object\n",
    "# TODO make list of gene names\n",
    "# uncomment the line below and complete....\n",
    "# gene_list = "
   ]
  },
  {
   "cell_type": "markdown",
   "metadata": {
    "id": "HZb0oDJtCdgs",
    "slideshow": {
     "slide_type": "slide"
    }
   },
   "source": [
    "lists can also be **Sliced**, following the same rules as `str`'s\n",
    "\n",
    "additionally, we can use `len` again to determine the number of objects in a list"
   ]
  },
  {
   "cell_type": "code",
   "execution_count": null,
   "metadata": {
    "id": "8qYrDTpUCieu",
    "slideshow": {
     "slide_type": "slide"
    }
   },
   "outputs": [],
   "source": [
    "print(len(test_list))\n",
    "test_list[0] # extracting first (and in this case, only) value from test_list\n",
    "# TODO the same for your list"
   ]
  },
  {
   "cell_type": "markdown",
   "metadata": {
    "id": "oErgjRefDlG5",
    "slideshow": {
     "slide_type": "slide"
    }
   },
   "source": [
    "#### challenge 9\n",
    "9.1 - extract the second character from the third gene name in your list"
   ]
  },
  {
   "cell_type": "code",
   "execution_count": null,
   "metadata": {
    "id": "ag6K05wvEuIm",
    "slideshow": {
     "slide_type": "slide"
    }
   },
   "outputs": [],
   "source": [
    "# TODO\n",
    "\n"
   ]
  },
  {
   "cell_type": "markdown",
   "metadata": {
    "id": "OFmP1mU4Evb5",
    "slideshow": {
     "slide_type": "slide"
    }
   },
   "source": [
    "9.2 - find the length of the first gene name in your list"
   ]
  },
  {
   "cell_type": "code",
   "execution_count": null,
   "metadata": {
    "id": "HvICwk5UE1gT",
    "slideshow": {
     "slide_type": "slide"
    }
   },
   "outputs": [],
   "source": [
    "# TODO\n"
   ]
  },
  {
   "cell_type": "markdown",
   "metadata": {
    "id": "rzURRPH5GdqH",
    "slideshow": {
     "slide_type": "slide"
    }
   },
   "source": [
    "### More str and list interplay\n",
    "We can turn long, delimited strings into lists"
   ]
  },
  {
   "cell_type": "code",
   "execution_count": null,
   "metadata": {
    "id": "nq4Buru4Gjwe",
    "slideshow": {
     "slide_type": "slide"
    }
   },
   "outputs": [],
   "source": [
    "genes = 'KRAS,CDH1,TP53,MFG' # genes as a string\n",
    "print(genes)\n",
    "genes.split(',') # genes as a list of strings, split by comma ','"
   ]
  },
  {
   "cell_type": "markdown",
   "metadata": {
    "id": "W3aTURsUJE-I",
    "slideshow": {
     "slide_type": "slide"
    }
   },
   "source": [
    "We can also add and remove items from lists"
   ]
  },
  {
   "cell_type": "code",
   "execution_count": null,
   "metadata": {
    "id": "4mjczuj4HEcJ",
    "slideshow": {
     "slide_type": "slide"
    }
   },
   "outputs": [],
   "source": [
    "print(collection + genes.split(',')) # concatenate lists\n",
    "collection.append(genes.split(',')) # adds the genes-as-list to the collection list\n",
    "print(collection) # notice we can have lists-of-lists....."
   ]
  },
  {
   "cell_type": "code",
   "execution_count": null,
   "metadata": {
    "id": "6fCQ_MCsJIOK",
    "slideshow": {
     "slide_type": "slide"
    }
   },
   "outputs": [],
   "source": [
    "collection.remove(genes.split(',')) # removes the genes-as-list from the collection list\n",
    "print(collection)"
   ]
  },
  {
   "cell_type": "markdown",
   "metadata": {
    "id": "da0AL37mPaGj",
    "slideshow": {
     "slide_type": "slide"
    }
   },
   "source": [
    "finally, like with strings, we can test for membership using \"in\""
   ]
  },
  {
   "cell_type": "code",
   "execution_count": null,
   "metadata": {
    "id": "tErrxVnqPcVN",
    "slideshow": {
     "slide_type": "slide"
    }
   },
   "outputs": [],
   "source": [
    "# TODO\n",
    "# check for 'MFG' in your gene_list"
   ]
  },
  {
   "cell_type": "markdown",
   "metadata": {
    "id": "VpxFueMHJvkW",
    "slideshow": {
     "slide_type": "slide"
    }
   },
   "source": [
    "#### challenge 10\n",
    "10.1 - Add 'MFG' to `gene_list` and remove 'KRAS'"
   ]
  },
  {
   "cell_type": "code",
   "execution_count": null,
   "metadata": {
    "id": "YEy43HSMJ0tp",
    "slideshow": {
     "slide_type": "slide"
    }
   },
   "outputs": [],
   "source": [
    "# TODO\n"
   ]
  },
  {
   "cell_type": "markdown",
   "metadata": {
    "id": "_EKGREl2KdXB",
    "slideshow": {
     "slide_type": "slide"
    }
   },
   "source": [
    "10.2 - Make a list `super_list` of both `gene_list` and `collection`"
   ]
  },
  {
   "cell_type": "code",
   "execution_count": null,
   "metadata": {
    "id": "BOgGvSOkKiQR",
    "slideshow": {
     "slide_type": "slide"
    }
   },
   "outputs": [],
   "source": [
    "# TODO\n"
   ]
  },
  {
   "cell_type": "markdown",
   "metadata": {
    "id": "G16GR9MTNKxE",
    "slideshow": {
     "slide_type": "slide"
    }
   },
   "source": [
    "### Dictionaries\n",
    "\n",
    "Dictionaries are maps.\n",
    "\n",
    "They point us from \"key\" objects to \"value\" objects.\n",
    "\n",
    "\"A\" -- > Adenine\n",
    "\n",
    "\"C\" -- > Cytosine ....\n",
    "\n",
    "They enable relationships to be stored in python and referenced by single names"
   ]
  },
  {
   "cell_type": "code",
   "execution_count": null,
   "metadata": {
    "id": "jMeNlCW8K1dN",
    "slideshow": {
     "slide_type": "slide"
    }
   },
   "outputs": [],
   "source": [
    "nt_to_full_name = {'A': 'adenine', 'C': 'cytosine', 'T': 'thymidine', 'G': 'guanine'} # simple dictionary\n",
    "print(nt_to_full_name)"
   ]
  },
  {
   "cell_type": "markdown",
   "metadata": {
    "id": "xIkpOGdLLBWG",
    "slideshow": {
     "slide_type": "slide"
    }
   },
   "source": [
    "we can query dictionaries based on the `key` values it contains\n",
    "\n",
    "*note* that these key values must be **unique** -- you can't have keys that point to multiple places (at least not in that way....)"
   ]
  },
  {
   "cell_type": "code",
   "execution_count": null,
   "metadata": {
    "id": "7WAhAlQgMCly",
    "slideshow": {
     "slide_type": "slide"
    }
   },
   "outputs": [],
   "source": [
    "nt_to_full_name['A'] # adenine"
   ]
  },
  {
   "cell_type": "markdown",
   "metadata": {
    "id": "injiTk2SME9e",
    "slideshow": {
     "slide_type": "slide"
    }
   },
   "source": [
    "but not the values"
   ]
  },
  {
   "cell_type": "code",
   "execution_count": null,
   "metadata": {
    "id": "vdh8vLShMGVk",
    "slideshow": {
     "slide_type": "slide"
    }
   },
   "outputs": [],
   "source": [
    "nt_to_full_name['adenine'] # KeyError"
   ]
  },
  {
   "cell_type": "markdown",
   "metadata": {
    "id": "h7jQM7kpMfR_",
    "slideshow": {
     "slide_type": "slide"
    }
   },
   "source": [
    "we can also add key, value pairs as we please"
   ]
  },
  {
   "cell_type": "code",
   "execution_count": null,
   "metadata": {
    "id": "Rf-pNnqLMiFz",
    "slideshow": {
     "slide_type": "slide"
    }
   },
   "outputs": [],
   "source": [
    "nt_to_full_name['U'] = 'uracil' # adding 'U': 'uracil'\n",
    "print(nt_to_full_name)"
   ]
  },
  {
   "cell_type": "markdown",
   "metadata": {
    "id": "Xm7CY4WKMPH3",
    "slideshow": {
     "slide_type": "slide"
    }
   },
   "source": [
    "Let's take `collection` for example, as it makes for a much better dictionary:"
   ]
  },
  {
   "cell_type": "markdown",
   "metadata": {
    "id": "lOwajQrKMul4",
    "slideshow": {
     "slide_type": "slide"
    }
   },
   "source": [
    "#### challenge 11\n",
    "\n",
    "make a dictionary with keys for each of the items in the `collection` list and values assigned appropriately"
   ]
  },
  {
   "cell_type": "code",
   "execution_count": null,
   "metadata": {
    "id": "DFpd-mvAMWwM",
    "slideshow": {
     "slide_type": "slide"
    }
   },
   "outputs": [],
   "source": [
    "# TODO"
   ]
  },
  {
   "cell_type": "markdown",
   "metadata": {
    "id": "YlTVdxEsOfUu",
    "slideshow": {
     "slide_type": "slide"
    }
   },
   "source": [
    "### more from dictionaries"
   ]
  },
  {
   "cell_type": "markdown",
   "metadata": {
    "id": "HEQDj6tfOoBM",
    "slideshow": {
     "slide_type": "slide"
    }
   },
   "source": [
    "Once we have a fully-populated dictionary, we can query it at scale for keys and values:"
   ]
  },
  {
   "cell_type": "code",
   "execution_count": null,
   "metadata": {
    "id": "HbOTGdeNOxgh",
    "slideshow": {
     "slide_type": "slide"
    }
   },
   "outputs": [],
   "source": [
    "gene_data.keys() # returns alll the keys"
   ]
  },
  {
   "cell_type": "code",
   "execution_count": null,
   "metadata": {
    "id": "3RbxLV8IPDqM",
    "slideshow": {
     "slide_type": "slide"
    }
   },
   "outputs": [],
   "source": [
    "gene_data.values() # returns all the values, losing some of the helpful structure"
   ]
  },
  {
   "cell_type": "code",
   "execution_count": null,
   "metadata": {
    "id": "CVkH4O1SPDeo",
    "slideshow": {
     "slide_type": "slide"
    }
   },
   "outputs": [],
   "source": [
    "gene_data.items() # returns all the key:value pairs! very useful"
   ]
  },
  {
   "cell_type": "markdown",
   "metadata": {
    "id": "DJL52g7pPQQh",
    "slideshow": {
     "slide_type": "slide"
    }
   },
   "source": [
    "we can alse query for membership, much like we did with strings and lists, but this time with keys:"
   ]
  },
  {
   "cell_type": "code",
   "execution_count": null,
   "metadata": {
    "id": "0sahjrX1PVag",
    "slideshow": {
     "slide_type": "slide"
    }
   },
   "outputs": [],
   "source": [
    "'A' in nt_to_full_name"
   ]
  },
  {
   "cell_type": "code",
   "execution_count": null,
   "metadata": {
    "id": "il3kRraAPtzt",
    "slideshow": {
     "slide_type": "slide"
    }
   },
   "outputs": [],
   "source": [
    "'A' in gene_data\n"
   ]
  },
  {
   "cell_type": "markdown",
   "metadata": {
    "id": "pW-UslKnNQ61",
    "slideshow": {
     "slide_type": "slide"
    }
   },
   "source": [
    "#### challenge 12\n",
    "12.1 - Make a dictionary `gene_dictionary` with key == 'MFG' and value == the dictionary we created above, `gene_data`"
   ]
  },
  {
   "cell_type": "code",
   "execution_count": null,
   "metadata": {
    "id": "WmuE6J9jQkn7",
    "slideshow": {
     "slide_type": "slide"
    }
   },
   "outputs": [],
   "source": [
    "# TODO\n"
   ]
  },
  {
   "cell_type": "markdown",
   "metadata": {
    "id": "gkuZQFWZj4ui",
    "slideshow": {
     "slide_type": "slide"
    }
   },
   "source": [
    "This dictionary within a dictionary structure allows use to store complex, hierarchical information. Imagine this with many genes, or many reads...."
   ]
  },
  {
   "cell_type": "markdown",
   "metadata": {
    "id": "D7TFPS3XQtm5",
    "slideshow": {
     "slide_type": "slide"
    }
   },
   "source": [
    "12.2 - query this dictionary for the data of MFG and, more specifically, the sequence of MFG"
   ]
  },
  {
   "cell_type": "code",
   "execution_count": null,
   "metadata": {
    "id": "K40EhK5GQ0iN",
    "slideshow": {
     "slide_type": "slide"
    }
   },
   "outputs": [],
   "source": [
    "# TODO\n"
   ]
  },
  {
   "cell_type": "markdown",
   "metadata": {
    "id": "kTPw_HxVN-5d",
    "slideshow": {
     "slide_type": "slide"
    }
   },
   "source": [
    "## Conditional control flow -- `if`\n",
    "\n",
    "We've done a lot of objects and types, but now we want to operate on them, enter \"Flow Control\" or logic.\n",
    "\n",
    "We're going to be to build programs that react to the contents, types, and dimensions of our objects."
   ]
  },
  {
   "cell_type": "code",
   "execution_count": null,
   "metadata": {
    "id": "O1iAqabd6EgW",
    "slideshow": {
     "slide_type": "slide"
    }
   },
   "outputs": [],
   "source": [
    "gene_list = ['MFG', 'KRAS', 'CDH1', 'TP53']\n",
    "gene_data = {'name': 'MFG', 'length': 12, 'sequence': 'ATGCCGAATTTA', 'counts': 460}\n",
    "gene_dictionary = {gene : gene_data}\n",
    "\n",
    "if 'MFG' in gene_list: # if MFG is an object in the list gene_list\n",
    "  print('MFG is my favorite gene')"
   ]
  },
  {
   "cell_type": "code",
   "execution_count": null,
   "metadata": {
    "id": "WqpnaCSmkv4H",
    "slideshow": {
     "slide_type": "slide"
    }
   },
   "outputs": [],
   "source": [
    "if gene_dictionary['MFG']['length'] < gene_dictionary['MFG']['counts']: # if gene length is less than gene counts\n",
    "  print('there are fewer nucleotides in MFG than reads aligned to it')"
   ]
  },
  {
   "cell_type": "markdown",
   "metadata": {
    "id": "0UP8aT9cllzP",
    "slideshow": {
     "slide_type": "slide"
    }
   },
   "source": [
    "`if` is always evaluating the statment to be `True` or `False`"
   ]
  },
  {
   "cell_type": "code",
   "execution_count": null,
   "metadata": {
    "id": "sefEUIT0lrnH",
    "slideshow": {
     "slide_type": "slide"
    }
   },
   "outputs": [],
   "source": [
    "print(gene_list[0] == gene_list[2]) # demonstrate expected outcome\n",
    "if gene_list[0] == gene_list[2]: # if this comparison evaluates to True\n",
    "  print('we have duplicates')"
   ]
  },
  {
   "cell_type": "markdown",
   "metadata": {
    "id": "OCuL9ZIMl6Ky",
    "slideshow": {
     "slide_type": "slide"
    }
   },
   "source": [
    "in the case of a false outcome, you can follow `if` with `else`:"
   ]
  },
  {
   "cell_type": "code",
   "execution_count": null,
   "metadata": {
    "id": "iWAC8k7Kl9g1",
    "slideshow": {
     "slide_type": "slide"
    }
   },
   "outputs": [],
   "source": [
    "print(gene_list[0] == gene_list[2]) # demonstrate expected outcome\n",
    "if gene_list[0] == gene_list[2]: # if this comparison evaluates to True\n",
    "  print('we have duplicates')\n",
    "else: # if this comparison does not evaluate to True (could be anything else...)\n",
    "  print('no duplicates')"
   ]
  },
  {
   "cell_type": "markdown",
   "metadata": {
    "id": "2FW5-D67mh2J",
    "slideshow": {
     "slide_type": "slide"
    }
   },
   "source": [
    "this makes `if` an essential tool in most Python code, and particularly when dealing with sequences:"
   ]
  },
  {
   "cell_type": "code",
   "execution_count": null,
   "metadata": {
    "id": "jWapra8Vmm0q",
    "slideshow": {
     "slide_type": "slide"
    }
   },
   "outputs": [],
   "source": [
    "reference_seq = 'ATGGCGAATTTA' # the reference sequence for MFG\n",
    "read_seq = gene_dictionary['MFG']['sequence'] # the read we detected and have worked with"
   ]
  },
  {
   "cell_type": "markdown",
   "metadata": {
    "id": "LxZlqpLuoYqe",
    "slideshow": {
     "slide_type": "slide"
    }
   },
   "source": [
    "#### challenge 13\n",
    "write an `if` statment to test whether reference_seq is equivalent to read_seq\n",
    "\n",
    "if it is, print out a message stating the patient is wild-type\n",
    "\n",
    "if not, print out a message stating that you've found a mutation"
   ]
  },
  {
   "cell_type": "code",
   "execution_count": null,
   "metadata": {
    "id": "9KT2-nJGogLP",
    "slideshow": {
     "slide_type": "slide"
    }
   },
   "outputs": [],
   "source": [
    "# TODO\n"
   ]
  },
  {
   "cell_type": "markdown",
   "metadata": {
    "id": "E8k4FZ5uo_xk",
    "slideshow": {
     "slide_type": "slide"
    }
   },
   "source": [
    "### nested conditionals\n",
    "Similar to our treatment of dictionaries within dictionaries and lists within lists, we can layer `if` statements in a \"nested\" manner: one within the other:"
   ]
  },
  {
   "cell_type": "code",
   "execution_count": null,
   "metadata": {
    "id": "o3Kwovs0pKeq",
    "slideshow": {
     "slide_type": "slide"
    }
   },
   "outputs": [],
   "source": [
    "if len(read_seq) > 6:\n",
    "  print('gene is longer than six nucleotides')\n",
    "  if read_seq[5] == 'T' :\n",
    "    print('we guess correctly the sixth position is T')\n",
    "  else:\n",
    "    print('the sixth position is actually ', read_seq[5])"
   ]
  },
  {
   "cell_type": "markdown",
   "metadata": {
    "id": "BJI9gBtLqFFD",
    "slideshow": {
     "slide_type": "slide"
    }
   },
   "source": [
    "this is useful for complex/hierarchical logic"
   ]
  },
  {
   "cell_type": "markdown",
   "metadata": {
    "id": "1f8P1pgNqJ7j",
    "slideshow": {
     "slide_type": "slide"
    }
   },
   "source": [
    "#### challenge 14\n",
    "14.1 - make an `int` object `snp_position` that you can modify to be any number\n",
    "\n",
    "write a conditional that checks if `read_seq` and `reference_seq` are equivalent\n",
    "\n",
    "if it is, print out a message stating the patient is wild-type\n",
    "\n",
    "if not, print out a message stating that you've found a mutation and then check if the characters at the `snp_position` in each sequence are the same.\n",
    "\n",
    "If they are, print \"no mutation at {snp_position}\"\n",
    "\n",
    "If not, print \"mutation at {snp_position}\"\n",
    "\n",
    "Also, if the position exceeds the range of either sequence, print an error message"
   ]
  },
  {
   "cell_type": "code",
   "execution_count": null,
   "metadata": {
    "id": "0SKVlCnHqJCW",
    "slideshow": {
     "slide_type": "slide"
    }
   },
   "outputs": [],
   "source": [
    "# TODO\n"
   ]
  },
  {
   "cell_type": "markdown",
   "metadata": {
    "id": "AB260DsMxDb7",
    "slideshow": {
     "slide_type": "slide"
    }
   },
   "source": [
    "and finally, we have \"else, if\" `elif` which lets you string together multiple `if` tests rather than simple using `else`"
   ]
  },
  {
   "cell_type": "code",
   "execution_count": null,
   "metadata": {
    "id": "T7-o5rhaxNR2",
    "slideshow": {
     "slide_type": "slide"
    }
   },
   "outputs": [],
   "source": [
    "if len(read_seq) > 6:\n",
    "  print('gene is longer than six nucleotides')\n",
    "  if read_seq[5] == 'T' :\n",
    "    print('we guess correctly the sixth position is T')\n",
    "  elif read_seq[5] == 'G':\n",
    "    print('well we guessed twice but its G')\n",
    "  else:\n",
    "    print('the sixth position is actually ', read_seq[5])"
   ]
  },
  {
   "cell_type": "markdown",
   "metadata": {
    "id": "4gCq3JN1xc-t",
    "slideshow": {
     "slide_type": "slide"
    }
   },
   "source": [
    "14.2 - rewrite `14.1` using `elif`"
   ]
  },
  {
   "cell_type": "markdown",
   "metadata": {
    "id": "lz2uIeChOQQE",
    "slideshow": {
     "slide_type": "slide"
    }
   },
   "source": [
    "## Loops -- `for`\n",
    "\n",
    "Across all languagues, situations, contexts, you will eventually want to do something more than once or across multiple objects.\n",
    "\n",
    "`for` loops enable iteration, or just \"looping\" over multiple objects\n",
    "\n",
    "This can be for simple things, like printing:"
   ]
  },
  {
   "cell_type": "code",
   "execution_count": null,
   "metadata": {
    "id": "VPxtxWKUtq1d",
    "slideshow": {
     "slide_type": "slide"
    }
   },
   "outputs": [],
   "source": [
    "# printing characters in strings\n",
    "for nt in read_seq: # for nucleotide in read_seq (which is a string)\n",
    "  print(nt)"
   ]
  },
  {
   "cell_type": "code",
   "execution_count": null,
   "metadata": {
    "id": "kGjAN1pJt2W6",
    "slideshow": {
     "slide_type": "slide"
    }
   },
   "outputs": [],
   "source": [
    "# printing objects in lists\n",
    "for gene in gene_list:\n",
    "  print(gene)"
   ]
  },
  {
   "cell_type": "code",
   "execution_count": null,
   "metadata": {
    "id": "VUcUTIhmt6wv",
    "slideshow": {
     "slide_type": "slide"
    }
   },
   "outputs": [],
   "source": [
    "# printing dictionary pairs\n",
    "for gene, data in gene_dictionary.items():\n",
    "  print(gene, data)"
   ]
  },
  {
   "cell_type": "markdown",
   "metadata": {
    "id": "TtzrPudduH3g",
    "slideshow": {
     "slide_type": "slide"
    }
   },
   "source": [
    "just like before, we can nest for loops:"
   ]
  },
  {
   "cell_type": "code",
   "execution_count": null,
   "metadata": {
    "id": "_SonZ2HXuFNu",
    "slideshow": {
     "slide_type": "slide"
    }
   },
   "outputs": [],
   "source": [
    "for gene, data in gene_dictionary.items(): # for all the keys and their values in our dictionary\n",
    "  print(gene, data) # print key, value\n",
    "  for variable in data.keys(): # for the keys in our nested dictionary\n",
    "    print(variable) # print the keys"
   ]
  },
  {
   "cell_type": "code",
   "execution_count": null,
   "metadata": {
    "id": "UW_fb5YNyjYi",
    "slideshow": {
     "slide_type": "slide"
    }
   },
   "outputs": [],
   "source": [
    "for gene in gene_list:\n",
    "  print(gene)\n",
    "  for character in gene: # for the keys in our nested dictionary\n",
    "    print(character) # print the keys"
   ]
  },
  {
   "cell_type": "markdown",
   "metadata": {
    "id": "uCDp1auAucz1",
    "slideshow": {
     "slide_type": "slide"
    }
   },
   "source": [
    "#### challenge 15\n",
    "make an `int` object `sum`\n",
    "\n",
    "loop over the gene names in `gene_lists` and calculate the length of each name\n",
    "\n",
    "produce the sum of all gene name lengths\n",
    "\n",
    "hint: use `+=` to update a numerical value with addition"
   ]
  },
  {
   "cell_type": "code",
   "execution_count": null,
   "metadata": {
    "id": "3ZddjQ0Bu0gM",
    "slideshow": {
     "slide_type": "slide"
    }
   },
   "outputs": [],
   "source": [
    "# TODO\n"
   ]
  },
  {
   "cell_type": "markdown",
   "metadata": {
    "id": "S9GkCLlXwenJ",
    "slideshow": {
     "slide_type": "slide"
    }
   },
   "source": [
    "### `for` and `if`\n",
    "\n",
    "we can also combine `if` statements and `for` loops to apply logic across multiple objects:"
   ]
  },
  {
   "cell_type": "code",
   "execution_count": null,
   "metadata": {
    "id": "z3GVXD80wnFB",
    "slideshow": {
     "slide_type": "slide"
    }
   },
   "outputs": [],
   "source": [
    "for nt in read_seq:\n",
    "  if nt == 'A':\n",
    "    print('found A')"
   ]
  },
  {
   "cell_type": "markdown",
   "metadata": {
    "id": "FncxvaTOyA3b",
    "slideshow": {
     "slide_type": "slide"
    }
   },
   "source": [
    "#### challenge 16\n",
    "\n",
    "Using the last example, and challenge 15, write a for loop that counts the total number of T's in `read_seq`"
   ]
  },
  {
   "cell_type": "code",
   "execution_count": null,
   "metadata": {
    "id": "2zAosHWfyOtz",
    "slideshow": {
     "slide_type": "slide"
    }
   },
   "outputs": [],
   "source": [
    "# TODO\n",
    "\n"
   ]
  },
  {
   "cell_type": "code",
   "execution_count": null,
   "metadata": {
    "id": "mVpb0urbyPw2",
    "slideshow": {
     "slide_type": "slide"
    }
   },
   "outputs": [],
   "source": [
    "# and also, we can do it with built in str functionality\n",
    "read_seq.count('T')"
   ]
  },
  {
   "cell_type": "markdown",
   "metadata": {
    "id": "-AcYA0cewKqw",
    "slideshow": {
     "slide_type": "slide"
    }
   },
   "source": [
    "### a friend of `for`: `range`\n",
    "\n",
    "`range` is very useful when looping over a sequence that has a defined length that you want to track by position, rather than object.\n",
    "\n",
    "For example, looping by nucleotide in sequence lets you access the characters:"
   ]
  },
  {
   "cell_type": "code",
   "execution_count": null,
   "metadata": {
    "id": "YKv_DEmpzSPC",
    "slideshow": {
     "slide_type": "slide"
    }
   },
   "outputs": [],
   "source": [
    "for nt in read_seq: # for nucleotide in sequence\n",
    "  print(nt)"
   ]
  },
  {
   "cell_type": "markdown",
   "metadata": {
    "id": "k8Arxgg1zfuG",
    "slideshow": {
     "slide_type": "slide"
    }
   },
   "source": [
    "but looping over all the positions in read_seq lets us use the position and the character"
   ]
  },
  {
   "cell_type": "code",
   "execution_count": null,
   "metadata": {
    "id": "uhhyHHNtzfEo",
    "slideshow": {
     "slide_type": "slide"
    }
   },
   "outputs": [],
   "source": [
    "for position in range(0, len(read_seq)):\n",
    "  print(position, read_seq[position])"
   ]
  },
  {
   "cell_type": "markdown",
   "metadata": {
    "id": "4iQUjbkJz2MU",
    "slideshow": {
     "slide_type": "slide"
    }
   },
   "source": [
    "#### challenge 17\n",
    "17.1 - create `snp`, a dictionary\n",
    "\n",
    "Using `range`, compare the nucleotides at each position in `read_seq` to `reference_seq`.\n",
    "\n",
    "For each position, make the position a key in `snp` and store the reference and read nucleotides, respectively, in a list that you make the value matching the position in `snp`.\n",
    "\n",
    "If the reference and read nt's are different, include 'Mut' in the list.\n",
    "\n",
    "If they are the same, include 'WT'"
   ]
  },
  {
   "cell_type": "code",
   "execution_count": null,
   "metadata": {
    "id": "BzXnUHIB0VTJ",
    "slideshow": {
     "slide_type": "slide"
    }
   },
   "outputs": [],
   "source": [
    "# TODO\n"
   ]
  },
  {
   "cell_type": "markdown",
   "metadata": {
    "id": "uk3R-Pi31_wq",
    "slideshow": {
     "slide_type": "slide"
    }
   },
   "source": [
    "17.2 - Loop over the `snp` dictionary and count the total number of Mutations.\n",
    "\n",
    "Calculate the fraction of Mutated to Wild Type positions and return "
   ]
  },
  {
   "cell_type": "code",
   "execution_count": null,
   "metadata": {
    "id": "L5KVVxs-2NIt",
    "slideshow": {
     "slide_type": "slide"
    }
   },
   "outputs": [],
   "source": [
    "# TODO\n"
   ]
  },
  {
   "cell_type": "code",
   "execution_count": null,
   "metadata": {},
   "outputs": [],
   "source": []
  }
 ],
 "metadata": {
  "celltoolbar": "Slideshow",
  "colab": {
   "private_outputs": true,
   "provenance": []
  },
  "kernelspec": {
   "display_name": "Python 3",
   "language": "python",
   "name": "python3"
  },
  "language_info": {
   "codemirror_mode": {
    "name": "ipython",
    "version": 3
   },
   "file_extension": ".py",
   "mimetype": "text/x-python",
   "name": "python",
   "nbconvert_exporter": "python",
   "pygments_lexer": "ipython3",
   "version": "3.8.15"
  }
 },
 "nbformat": 4,
 "nbformat_minor": 1
}
